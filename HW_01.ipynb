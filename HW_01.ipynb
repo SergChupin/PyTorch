{
 "cells": [
  {
   "cell_type": "code",
   "execution_count": 1,
   "metadata": {},
   "outputs": [],
   "source": [
    "import torch\n",
    "import random\n",
    "import numpy as np"
   ]
  },
  {
   "cell_type": "code",
   "execution_count": 2,
   "metadata": {},
   "outputs": [
    {
     "name": "stdout",
     "output_type": "stream",
     "text": [
      "tensor([[[3.0933e-02, 1.6542e-01, 8.1250e-01, 9.2620e-01, 6.2271e-01],\n",
      "         [3.8805e-01, 7.4169e-01, 3.1577e-01, 1.9146e-01, 8.5530e-01],\n",
      "         [2.1458e-01, 9.1508e-01, 1.3493e-01, 6.0673e-01, 7.0303e-01],\n",
      "         [6.6844e-01, 8.8794e-01, 7.5058e-01, 5.7568e-01, 6.9388e-01]],\n",
      "\n",
      "        [[2.5852e-01, 2.6367e-01, 9.3503e-01, 2.1948e-01, 2.5145e-01],\n",
      "         [5.7911e-01, 6.4440e-01, 1.4644e-01, 9.0851e-01, 9.7959e-01],\n",
      "         [7.0616e-01, 3.4237e-02, 8.6273e-01, 6.3304e-01, 2.6766e-01],\n",
      "         [5.9634e-02, 3.9048e-01, 5.6452e-01, 5.3922e-01, 9.5676e-01]],\n",
      "\n",
      "        [[3.4297e-04, 6.6152e-01, 6.2176e-01, 2.6720e-02, 9.1116e-03],\n",
      "         [8.6586e-01, 9.4255e-01, 9.8043e-02, 9.0736e-01, 7.4175e-01],\n",
      "         [5.7857e-01, 8.4540e-01, 5.2678e-01, 8.2933e-01, 6.4985e-01],\n",
      "         [3.8126e-01, 3.6245e-01, 2.7185e-01, 3.7694e-01, 2.0716e-02]]])\n"
     ]
    },
    {
     "data": {
      "text/plain": [
       "'torch.FloatTensor'"
      ]
     },
     "execution_count": 2,
     "metadata": {},
     "output_type": "execute_result"
    }
   ],
   "source": [
    "# Создайте случайный FloatTensor размера 3x4x5\n",
    "\n",
    "tensor = torch.rand(3, 4, 5)\n",
    "print(tensor)\n",
    "tensor.type()"
   ]
  },
  {
   "cell_type": "code",
   "execution_count": 3,
   "metadata": {},
   "outputs": [
    {
     "data": {
      "text/plain": [
       "torch.Size([3, 4, 5])"
      ]
     },
     "execution_count": 3,
     "metadata": {},
     "output_type": "execute_result"
    }
   ],
   "source": [
    "# Выведите его форму (shape)\n",
    "\n",
    "tensor.shape"
   ]
  },
  {
   "cell_type": "code",
   "execution_count": 4,
   "metadata": {},
   "outputs": [
    {
     "name": "stdout",
     "output_type": "stream",
     "text": [
      "tensor([[3.0933e-02, 1.6542e-01, 8.1250e-01, 9.2620e-01, 6.2271e-01, 3.8805e-01,\n",
      "         7.4169e-01, 3.1577e-01, 1.9146e-01, 8.5530e-01],\n",
      "        [2.1458e-01, 9.1508e-01, 1.3493e-01, 6.0673e-01, 7.0303e-01, 6.6844e-01,\n",
      "         8.8794e-01, 7.5058e-01, 5.7568e-01, 6.9388e-01],\n",
      "        [2.5852e-01, 2.6367e-01, 9.3503e-01, 2.1948e-01, 2.5145e-01, 5.7911e-01,\n",
      "         6.4440e-01, 1.4644e-01, 9.0851e-01, 9.7959e-01],\n",
      "        [7.0616e-01, 3.4237e-02, 8.6273e-01, 6.3304e-01, 2.6766e-01, 5.9634e-02,\n",
      "         3.9048e-01, 5.6452e-01, 5.3922e-01, 9.5676e-01],\n",
      "        [3.4297e-04, 6.6152e-01, 6.2176e-01, 2.6720e-02, 9.1116e-03, 8.6586e-01,\n",
      "         9.4255e-01, 9.8043e-02, 9.0736e-01, 7.4175e-01],\n",
      "        [5.7857e-01, 8.4540e-01, 5.2678e-01, 8.2933e-01, 6.4985e-01, 3.8126e-01,\n",
      "         3.6245e-01, 2.7185e-01, 3.7694e-01, 2.0716e-02]])\n"
     ]
    },
    {
     "data": {
      "text/plain": [
       "torch.Size([6, 10])"
      ]
     },
     "execution_count": 4,
     "metadata": {},
     "output_type": "execute_result"
    }
   ],
   "source": [
    "# Приведите его к форме 6 X 10\n",
    "\n",
    "tensor_reshape = tensor.reshape(6, 10)\n",
    "print(tensor_reshape)\n",
    "tensor_reshape.shape"
   ]
  },
  {
   "cell_type": "code",
   "execution_count": 5,
   "metadata": {},
   "outputs": [
    {
     "data": {
      "text/plain": [
       "tensor([[[3.0933e-02, 6.6166e-01, 1.6250e+00, 1.8524e+00, 6.2271e-01],\n",
       "         [3.8805e-01, 2.9668e+00, 6.3154e-01, 3.8293e-01, 8.5530e-01],\n",
       "         [2.1458e-01, 3.6603e+00, 2.6985e-01, 1.2135e+00, 7.0303e-01],\n",
       "         [6.6844e-01, 3.5518e+00, 1.5012e+00, 1.1514e+00, 6.9388e-01]],\n",
       "\n",
       "        [[2.5852e-01, 1.0547e+00, 1.8701e+00, 4.3897e-01, 2.5145e-01],\n",
       "         [5.7911e-01, 2.5776e+00, 2.9288e-01, 1.8170e+00, 9.7959e-01],\n",
       "         [7.0616e-01, 1.3695e-01, 1.7255e+00, 1.2661e+00, 2.6766e-01],\n",
       "         [5.9634e-02, 1.5619e+00, 1.1290e+00, 1.0784e+00, 9.5676e-01]],\n",
       "\n",
       "        [[3.4297e-04, 2.6461e+00, 1.2435e+00, 5.3439e-02, 9.1116e-03],\n",
       "         [8.6586e-01, 3.7702e+00, 1.9609e-01, 1.8147e+00, 7.4175e-01],\n",
       "         [5.7857e-01, 3.3816e+00, 1.0536e+00, 1.6587e+00, 6.4985e-01],\n",
       "         [3.8126e-01, 1.4498e+00, 5.4370e-01, 7.5388e-01, 2.0716e-02]]],\n",
       "       dtype=torch.float64)"
      ]
     },
     "execution_count": 5,
     "metadata": {},
     "output_type": "execute_result"
    }
   ],
   "source": [
    "# Умножьте его на вектор [1, 4, 2, 2, 1] поэлементно\n",
    "\n",
    "vector = np.array([1, 4, 2, 2, 1])\n",
    "tensor * vector"
   ]
  },
  {
   "cell_type": "code",
   "execution_count": 6,
   "metadata": {},
   "outputs": [
    {
     "name": "stdout",
     "output_type": "stream",
     "text": [
      "tensor([[3.5027, 3.1260, 2.9319, 2.8940, 2.5192, 2.3510],\n",
      "        [3.1260, 4.3755, 3.0048, 2.6561, 3.2382, 2.9410],\n",
      "        [2.9319, 3.0048, 3.6791, 3.0005, 3.4381, 2.0674],\n",
      "        [2.8940, 2.6561, 3.0005, 3.3974, 2.2526, 2.1317],\n",
      "        [2.5192, 3.2382, 3.4381, 2.2526, 3.8462, 1.9708],\n",
      "        [2.3510, 2.9410, 2.0674, 2.1317, 1.9708, 2.9302]])\n"
     ]
    },
    {
     "data": {
      "text/plain": [
       "torch.Size([6, 6])"
      ]
     },
     "execution_count": 6,
     "metadata": {},
     "output_type": "execute_result"
    }
   ],
   "source": [
    "# Умножьте тензор матрично на себя, чтобы результат был размерности 6x6\n",
    "\n",
    "tensor1 = tensor_reshape @ tensor_reshape.T\n",
    "print(tensor1)\n",
    "tensor1.shape"
   ]
  },
  {
   "cell_type": "code",
   "execution_count": 7,
   "metadata": {},
   "outputs": [
    {
     "data": {
      "text/plain": [
       "(tensor(3.), tensor(1.), tensor(-75.))"
      ]
     },
     "execution_count": 7,
     "metadata": {},
     "output_type": "execute_result"
    }
   ],
   "source": [
    "# Посчитайте производную функции y = x**3 + z - 75t в точке (1, 0.5, 2)\n",
    "\n",
    "x = torch.tensor(1.0, requires_grad=True)\n",
    "z = torch.tensor(0.5, requires_grad=True)\n",
    "t = torch.tensor(2.0, requires_grad=True)\n",
    "\n",
    "y = x ** 3 + z - 75 * t\n",
    "y.backward()\n",
    "x.grad, z.grad, t.grad"
   ]
  },
  {
   "cell_type": "code",
   "execution_count": 8,
   "metadata": {},
   "outputs": [
    {
     "name": "stdout",
     "output_type": "stream",
     "text": [
      "tensor([[1., 1., 1., 1., 1., 1.],\n",
      "        [1., 1., 1., 1., 1., 1.],\n",
      "        [1., 1., 1., 1., 1., 1.],\n",
      "        [1., 1., 1., 1., 1., 1.],\n",
      "        [1., 1., 1., 1., 1., 1.]])\n"
     ]
    },
    {
     "data": {
      "text/plain": [
       "torch.Size([5, 6])"
      ]
     },
     "execution_count": 8,
     "metadata": {},
     "output_type": "execute_result"
    }
   ],
   "source": [
    "# Создайте единичный тензор размера 5x6\n",
    "\n",
    "tensor_ones = torch.ones(5, 6)\n",
    "print(tensor_ones)\n",
    "tensor_ones.shape"
   ]
  },
  {
   "cell_type": "code",
   "execution_count": 9,
   "metadata": {},
   "outputs": [
    {
     "data": {
      "text/plain": [
       "array([[1., 1., 1., 1., 1., 1.],\n",
       "       [1., 1., 1., 1., 1., 1.],\n",
       "       [1., 1., 1., 1., 1., 1.],\n",
       "       [1., 1., 1., 1., 1., 1.],\n",
       "       [1., 1., 1., 1., 1., 1.]], dtype=float32)"
      ]
     },
     "execution_count": 9,
     "metadata": {},
     "output_type": "execute_result"
    }
   ],
   "source": [
    "# Переведите его в формат numpy\n",
    "\n",
    "t_np = tensor_ones.numpy()\n",
    "t_np"
   ]
  },
  {
   "cell_type": "code",
   "execution_count": 10,
   "metadata": {},
   "outputs": [],
   "source": [
    "# Давайте теперь пооптимизируем: возьмите функцию y = x**w1 - 2 * x**2 + 5\n",
    "# Посчитайте \n",
    "\n"
   ]
  }
 ],
 "metadata": {
  "kernelspec": {
   "display_name": "Python 3",
   "language": "python",
   "name": "python3"
  },
  "language_info": {
   "codemirror_mode": {
    "name": "ipython",
    "version": 3
   },
   "file_extension": ".py",
   "mimetype": "text/x-python",
   "name": "python",
   "nbconvert_exporter": "python",
   "pygments_lexer": "ipython3",
   "version": "3.9.7"
  }
 },
 "nbformat": 4,
 "nbformat_minor": 2
}
